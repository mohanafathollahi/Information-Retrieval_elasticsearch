{
 "cells": [
  {
   "cell_type": "code",
   "execution_count": 1,
   "id": "2b4d33b0",
   "metadata": {},
   "outputs": [],
   "source": [
    "from elasticsearch import Elasticsearch\n",
    "from itertools import combinations\n",
    "from os import listdir\n",
    "import numpy as np\n",
    "import pandas as pd\n",
    "import TFIDFViewer_m as tfidf\n",
    "from ssl import create_default_context\n",
    "context = create_default_context(cafile=\"/home/mohana/http_ca.crt\")\n",
    "client = Elasticsearch(timeout=1000,use_ssl=True,ssl_context=context, scheme = \"https\",http_auth = (\"elastic\", \"h_9RfOqHmS-v5-ZV9Lk7\"))\n"
   ]
  },
  {
   "cell_type": "markdown",
   "id": "6604184b",
   "metadata": {},
   "source": [
    "## Compare texts within groups"
   ]
  },
  {
   "cell_type": "markdown",
   "id": "020e4844",
   "metadata": {},
   "source": [
    "In newspapers we have 20 groups:['alt.atheism', 'comp.graphics', 'comp.os.ms-windows.misc', 'comp.sys.ibm.pc.hardware', 'comp.sys.mac.hardware', 'comp.windows.x', 'misc.forsale', 'rec.autos', 'rec.motorcycles', 'rec.sport.baseball', 'rec.sport.hockey', 'sci.crypt', 'sci.electronics', 'sci.med', 'sci.space', 'soc.religion.christian', 'talk.politics.guns', 'talk.politics.mideast', 'talk.politics.misc', 'talk.religion.misc'] and in each of these groups we will select 5 random texts to compare comparision in each group. At the end we have 200 combination of texts in different news subjects."
   ]
  },
  {
   "cell_type": "code",
   "execution_count": 2,
   "id": "9aa3e074",
   "metadata": {},
   "outputs": [],
   "source": [
    "def within_groups_samples(path, n_sample):\n",
    "    groups = sorted(listdir(path))\n",
    "    group_text1_text2 = [[] for _ in range(3)]\n",
    "    for i in groups:\n",
    "        samples = np.random.choice(listdir(path +'/'+ i), size=n_sample, replace=False)\n",
    "        #consider all combination of texts, forexample([0085,0147],[0085, 0524])\n",
    "        for text1, text2 in combinations(samples, 2):\n",
    "            group_text1_text2[0].append(i)\n",
    "            group_text1_text2[1].append(text1)\n",
    "            group_text1_text2[2].append(text2)\n",
    "    df_within_groups = pd.DataFrame({'Group': group_text1_text2[0], 'Text1': group_text1_text2[1], 'Text2': group_text1_text2[2]})\n",
    "    return df_within_groups\n"
   ]
  },
  {
   "cell_type": "code",
   "execution_count": 3,
   "id": "b3dbeaa5",
   "metadata": {},
   "outputs": [
    {
     "data": {
      "text/html": [
       "<div>\n",
       "<style scoped>\n",
       "    .dataframe tbody tr th:only-of-type {\n",
       "        vertical-align: middle;\n",
       "    }\n",
       "\n",
       "    .dataframe tbody tr th {\n",
       "        vertical-align: top;\n",
       "    }\n",
       "\n",
       "    .dataframe thead th {\n",
       "        text-align: right;\n",
       "    }\n",
       "</style>\n",
       "<table border=\"1\" class=\"dataframe\">\n",
       "  <thead>\n",
       "    <tr style=\"text-align: right;\">\n",
       "      <th></th>\n",
       "      <th>Group</th>\n",
       "      <th>Text1</th>\n",
       "      <th>Text2</th>\n",
       "    </tr>\n",
       "  </thead>\n",
       "  <tbody>\n",
       "    <tr>\n",
       "      <th>0</th>\n",
       "      <td>alt.atheism</td>\n",
       "      <td>0000893</td>\n",
       "      <td>0000468</td>\n",
       "    </tr>\n",
       "    <tr>\n",
       "      <th>1</th>\n",
       "      <td>alt.atheism</td>\n",
       "      <td>0000893</td>\n",
       "      <td>0000747</td>\n",
       "    </tr>\n",
       "    <tr>\n",
       "      <th>2</th>\n",
       "      <td>alt.atheism</td>\n",
       "      <td>0000893</td>\n",
       "      <td>0000436</td>\n",
       "    </tr>\n",
       "    <tr>\n",
       "      <th>3</th>\n",
       "      <td>alt.atheism</td>\n",
       "      <td>0000893</td>\n",
       "      <td>0000248</td>\n",
       "    </tr>\n",
       "    <tr>\n",
       "      <th>4</th>\n",
       "      <td>alt.atheism</td>\n",
       "      <td>0000468</td>\n",
       "      <td>0000747</td>\n",
       "    </tr>\n",
       "    <tr>\n",
       "      <th>...</th>\n",
       "      <td>...</td>\n",
       "      <td>...</td>\n",
       "      <td>...</td>\n",
       "    </tr>\n",
       "    <tr>\n",
       "      <th>195</th>\n",
       "      <td>talk.religion.misc</td>\n",
       "      <td>0019565</td>\n",
       "      <td>0019392</td>\n",
       "    </tr>\n",
       "    <tr>\n",
       "      <th>196</th>\n",
       "      <td>talk.religion.misc</td>\n",
       "      <td>0019565</td>\n",
       "      <td>0019225</td>\n",
       "    </tr>\n",
       "    <tr>\n",
       "      <th>197</th>\n",
       "      <td>talk.religion.misc</td>\n",
       "      <td>0019404</td>\n",
       "      <td>0019392</td>\n",
       "    </tr>\n",
       "    <tr>\n",
       "      <th>198</th>\n",
       "      <td>talk.religion.misc</td>\n",
       "      <td>0019404</td>\n",
       "      <td>0019225</td>\n",
       "    </tr>\n",
       "    <tr>\n",
       "      <th>199</th>\n",
       "      <td>talk.religion.misc</td>\n",
       "      <td>0019392</td>\n",
       "      <td>0019225</td>\n",
       "    </tr>\n",
       "  </tbody>\n",
       "</table>\n",
       "<p>200 rows × 3 columns</p>\n",
       "</div>"
      ],
      "text/plain": [
       "                  Group    Text1    Text2\n",
       "0           alt.atheism  0000893  0000468\n",
       "1           alt.atheism  0000893  0000747\n",
       "2           alt.atheism  0000893  0000436\n",
       "3           alt.atheism  0000893  0000248\n",
       "4           alt.atheism  0000468  0000747\n",
       "..                  ...      ...      ...\n",
       "195  talk.religion.misc  0019565  0019392\n",
       "196  talk.religion.misc  0019565  0019225\n",
       "197  talk.religion.misc  0019404  0019392\n",
       "198  talk.religion.misc  0019404  0019225\n",
       "199  talk.religion.misc  0019392  0019225\n",
       "\n",
       "[200 rows x 3 columns]"
      ]
     },
     "execution_count": 3,
     "metadata": {},
     "output_type": "execute_result"
    }
   ],
   "source": [
    "path_news = '20_newsgroups'\n",
    "n_sample =5\n",
    "df_total_within= within_groups_samples(path_news, n_sample)\n",
    "df_total_within"
   ]
  },
  {
   "cell_type": "markdown",
   "id": "6850258e",
   "metadata": {},
   "source": [
    "## Compare texts between groups"
   ]
  },
  {
   "cell_type": "markdown",
   "id": "52c242a3",
   "metadata": {},
   "source": [
    "To compare different groups, we will consider all comination of groups and for each group, we will select 10 random texts for each of them. To not have repetitive samples in our comparison we considered different random.seed for each iteration of combinations.At the end we have 950 combinations. "
   ]
  },
  {
   "cell_type": "code",
   "execution_count": 4,
   "id": "527a9e08",
   "metadata": {},
   "outputs": [],
   "source": [
    "def between_groups_samples(path, n_sample):\n",
    "    groups = sorted(listdir(path))\n",
    "    group1_text1_group2_text2 = [[] for _ in range(4)]\n",
    "    counter = 0\n",
    "    #All combinations of groups\n",
    "    for group1, group2 in combinations(groups, 2):\n",
    "        np.random.seed(1 + counter)\n",
    "        sample_group1 = np.random.choice(listdir(path +'/' + group1), size=n_sample, replace=False)\n",
    "        sample_group2 = np.random.choice(listdir(path +'/' + group2), size=n_sample, replace=False)\n",
    "        for i in range(n_sample):\n",
    "            group1_text1_group2_text2[0].append(group1)\n",
    "            group1_text1_group2_text2[1].append(sample_group1[i])\n",
    "            group1_text1_group2_text2[2].append(group2)\n",
    "            group1_text1_group2_text2[3].append(sample_group2[i])\n",
    "        counter += 1\n",
    "\n",
    "    df_between_groups = pd.DataFrame({'Group1': group1_text1_group2_text2[0], 'Text1': group1_text1_group2_text2[1], \n",
    "                                      'Group2': group1_text1_group2_text2[2], 'Text2': group1_text1_group2_text2[3]})\n",
    "    return df_between_groups"
   ]
  },
  {
   "cell_type": "code",
   "execution_count": 5,
   "id": "3a8157b3",
   "metadata": {},
   "outputs": [
    {
     "name": "stdout",
     "output_type": "stream",
     "text": [
      "                 Group1    Text1              Group2    Text2\n",
      "0           alt.atheism  0000143       comp.graphics  0001936\n",
      "1           alt.atheism  0000426       comp.graphics  0001888\n",
      "2           alt.atheism  0000110       comp.graphics  0001951\n",
      "3           alt.atheism  0000136       comp.graphics  0001281\n",
      "4           alt.atheism  0000907       comp.graphics  0001673\n",
      "..                  ...      ...                 ...      ...\n",
      "945  talk.politics.misc  0018742  talk.religion.misc  0019792\n",
      "946  talk.politics.misc  0018074  talk.religion.misc  0019226\n",
      "947  talk.politics.misc  0018101  talk.religion.misc  0019781\n",
      "948  talk.politics.misc  0018196  talk.religion.misc  0019389\n",
      "949  talk.politics.misc  0018835  talk.religion.misc  0019934\n",
      "\n",
      "[950 rows x 4 columns]\n"
     ]
    }
   ],
   "source": [
    "df_total_btw = between_groups_samples(path_news, n_sample)\n",
    "print(df_total_btw)\n",
    "#to check different combinations in group alt.atheism\n",
    "#df_total_btw.loc[df_total_btw['Group1']==\"alt.atheism\"]"
   ]
  },
  {
   "cell_type": "markdown",
   "id": "739086f1",
   "metadata": {},
   "source": [
    "## Calculate cosine similarity between groups"
   ]
  },
  {
   "cell_type": "markdown",
   "id": "2efd25cf",
   "metadata": {},
   "source": [
    "Based on functions that defined in TFIDFViewer_m, first we should find the id of a document in the index and then calculate cosine similarity."
   ]
  },
  {
   "cell_type": "code",
   "execution_count": 6,
   "id": "8a9e6891",
   "metadata": {},
   "outputs": [],
   "source": [
    "def calculate_cos_sim(client_, index_, path1_, path2_):\n",
    "    file_group1_id = tfidf.search_file_by_path(client_, index_, path1_)\n",
    "    file_group2_id = tfidf.search_file_by_path(client_, index_, path2_)\n",
    "\n",
    "    file1_tw = tfidf.toTFIDF(client_, index_, file_group1_id)\n",
    "    file2_tw = tfidf.toTFIDF(client_, index_, file_group2_id )\n",
    "\n",
    "    return tfidf.cosine_similarity(file1_tw, file2_tw)"
   ]
  },
  {
   "cell_type": "markdown",
   "id": "2fbae832",
   "metadata": {},
   "source": [
    "We condider index news that considered token =letter and filter= lowercase"
   ]
  },
  {
   "cell_type": "code",
   "execution_count": 7,
   "id": "85522e4e",
   "metadata": {},
   "outputs": [],
   "source": [
    "index = 'news'"
   ]
  },
  {
   "cell_type": "markdown",
   "id": "b264fef1",
   "metadata": {},
   "source": [
    "For different combination of groups we will calculate mean of similarity, so we will have 190 rows at the end, because we consider mean of each group and our first table that has 950 rows."
   ]
  },
  {
   "cell_type": "code",
   "execution_count": 8,
   "id": "2e8da76b",
   "metadata": {},
   "outputs": [],
   "source": [
    "total_similarity = []\n",
    "for ix, row in df_total_btw.iterrows():\n",
    "    path1 = path_news + '/' + row.Group1 + '/' + row.Text1\n",
    "    path2 = path_news + '/' + row.Group2 + '/' + row.Text2\n",
    "    total_similarity.append(calculate_cos_sim(client, index, path1, path2))\n",
    "\n",
    "between_groups_sim = df_total_btw.copy()\n",
    "between_groups_sim['similarity'] = total_similarity\n",
    "between_groups_sim = between_groups_sim.groupby(['Group1', 'Group2'])['similarity'].mean()"
   ]
  },
  {
   "cell_type": "markdown",
   "id": "a6d4f1c7",
   "metadata": {},
   "source": [
    "Based on our result, highest similarity exist between \"talk.politics.guns\" & \"talk.politics.misc\" and lowest similairty exist between \"comp.windows.x\" & \"rec.autos\"."
   ]
  },
  {
   "cell_type": "code",
   "execution_count": 11,
   "id": "7e182516",
   "metadata": {},
   "outputs": [
    {
     "data": {
      "text/html": [
       "<div>\n",
       "<style scoped>\n",
       "    .dataframe tbody tr th:only-of-type {\n",
       "        vertical-align: middle;\n",
       "    }\n",
       "\n",
       "    .dataframe tbody tr th {\n",
       "        vertical-align: top;\n",
       "    }\n",
       "\n",
       "    .dataframe thead th {\n",
       "        text-align: right;\n",
       "    }\n",
       "</style>\n",
       "<table border=\"1\" class=\"dataframe\">\n",
       "  <thead>\n",
       "    <tr style=\"text-align: right;\">\n",
       "      <th></th>\n",
       "      <th></th>\n",
       "      <th>similarity</th>\n",
       "    </tr>\n",
       "    <tr>\n",
       "      <th>Group1</th>\n",
       "      <th>Group2</th>\n",
       "      <th></th>\n",
       "    </tr>\n",
       "  </thead>\n",
       "  <tbody>\n",
       "    <tr>\n",
       "      <th>comp.windows.x</th>\n",
       "      <th>rec.autos</th>\n",
       "      <td>0.002747</td>\n",
       "    </tr>\n",
       "    <tr>\n",
       "      <th>comp.os.ms-windows.misc</th>\n",
       "      <th>sci.electronics</th>\n",
       "      <td>0.003396</td>\n",
       "    </tr>\n",
       "    <tr>\n",
       "      <th>alt.atheism</th>\n",
       "      <th>misc.forsale</th>\n",
       "      <td>0.003868</td>\n",
       "    </tr>\n",
       "    <tr>\n",
       "      <th>misc.forsale</th>\n",
       "      <th>rec.sport.hockey</th>\n",
       "      <td>0.004360</td>\n",
       "    </tr>\n",
       "    <tr>\n",
       "      <th>alt.atheism</th>\n",
       "      <th>comp.windows.x</th>\n",
       "      <td>0.004720</td>\n",
       "    </tr>\n",
       "    <tr>\n",
       "      <th>...</th>\n",
       "      <th>...</th>\n",
       "      <td>...</td>\n",
       "    </tr>\n",
       "    <tr>\n",
       "      <th>talk.politics.mideast</th>\n",
       "      <th>talk.religion.misc</th>\n",
       "      <td>0.035132</td>\n",
       "    </tr>\n",
       "    <tr>\n",
       "      <th rowspan=\"2\" valign=\"top\">soc.religion.christian</th>\n",
       "      <th>talk.religion.misc</th>\n",
       "      <td>0.035421</td>\n",
       "    </tr>\n",
       "    <tr>\n",
       "      <th>talk.politics.mideast</th>\n",
       "      <td>0.036313</td>\n",
       "    </tr>\n",
       "    <tr>\n",
       "      <th>alt.atheism</th>\n",
       "      <th>talk.religion.misc</th>\n",
       "      <td>0.039683</td>\n",
       "    </tr>\n",
       "    <tr>\n",
       "      <th>talk.politics.guns</th>\n",
       "      <th>talk.politics.misc</th>\n",
       "      <td>0.047720</td>\n",
       "    </tr>\n",
       "  </tbody>\n",
       "</table>\n",
       "<p>190 rows × 1 columns</p>\n",
       "</div>"
      ],
      "text/plain": [
       "                                               similarity\n",
       "Group1                  Group2                           \n",
       "comp.windows.x          rec.autos                0.002747\n",
       "comp.os.ms-windows.misc sci.electronics          0.003396\n",
       "alt.atheism             misc.forsale             0.003868\n",
       "misc.forsale            rec.sport.hockey         0.004360\n",
       "alt.atheism             comp.windows.x           0.004720\n",
       "...                                                   ...\n",
       "talk.politics.mideast   talk.religion.misc       0.035132\n",
       "soc.religion.christian  talk.religion.misc       0.035421\n",
       "                        talk.politics.mideast    0.036313\n",
       "alt.atheism             talk.religion.misc       0.039683\n",
       "talk.politics.guns      talk.politics.misc       0.047720\n",
       "\n",
       "[190 rows x 1 columns]"
      ]
     },
     "execution_count": 11,
     "metadata": {},
     "output_type": "execute_result"
    }
   ],
   "source": [
    "df_between_sorted=pd.DataFrame(between_groups_sim).sort_values('similarity')\n",
    "df_between_sorted"
   ]
  },
  {
   "cell_type": "code",
   "execution_count": 12,
   "id": "e38efa5f",
   "metadata": {},
   "outputs": [
    {
     "ename": "KeyError",
     "evalue": "'Group1'",
     "output_type": "error",
     "traceback": [
      "\u001b[0;31m---------------------------------------------------------------------------\u001b[0m",
      "\u001b[0;31mKeyError\u001b[0m                                  Traceback (most recent call last)",
      "File \u001b[0;32m~/.local/lib/python3.8/site-packages/pandas/core/indexes/base.py:3800\u001b[0m, in \u001b[0;36mIndex.get_loc\u001b[0;34m(self, key, method, tolerance)\u001b[0m\n\u001b[1;32m   3799\u001b[0m \u001b[38;5;28;01mtry\u001b[39;00m:\n\u001b[0;32m-> 3800\u001b[0m     \u001b[38;5;28;01mreturn\u001b[39;00m \u001b[38;5;28;43mself\u001b[39;49m\u001b[38;5;241;43m.\u001b[39;49m\u001b[43m_engine\u001b[49m\u001b[38;5;241;43m.\u001b[39;49m\u001b[43mget_loc\u001b[49m\u001b[43m(\u001b[49m\u001b[43mcasted_key\u001b[49m\u001b[43m)\u001b[49m\n\u001b[1;32m   3801\u001b[0m \u001b[38;5;28;01mexcept\u001b[39;00m \u001b[38;5;167;01mKeyError\u001b[39;00m \u001b[38;5;28;01mas\u001b[39;00m err:\n",
      "File \u001b[0;32m~/.local/lib/python3.8/site-packages/pandas/_libs/index.pyx:138\u001b[0m, in \u001b[0;36mpandas._libs.index.IndexEngine.get_loc\u001b[0;34m()\u001b[0m\n",
      "File \u001b[0;32m~/.local/lib/python3.8/site-packages/pandas/_libs/index.pyx:165\u001b[0m, in \u001b[0;36mpandas._libs.index.IndexEngine.get_loc\u001b[0;34m()\u001b[0m\n",
      "File \u001b[0;32mpandas/_libs/hashtable_class_helper.pxi:5745\u001b[0m, in \u001b[0;36mpandas._libs.hashtable.PyObjectHashTable.get_item\u001b[0;34m()\u001b[0m\n",
      "File \u001b[0;32mpandas/_libs/hashtable_class_helper.pxi:5753\u001b[0m, in \u001b[0;36mpandas._libs.hashtable.PyObjectHashTable.get_item\u001b[0;34m()\u001b[0m\n",
      "\u001b[0;31mKeyError\u001b[0m: 'Group1'",
      "\nThe above exception was the direct cause of the following exception:\n",
      "\u001b[0;31mKeyError\u001b[0m                                  Traceback (most recent call last)",
      "Cell \u001b[0;32mIn [12], line 2\u001b[0m\n\u001b[1;32m      1\u001b[0m test \u001b[38;5;241m=\u001b[39m [\u001b[38;5;124m\"\u001b[39m\u001b[38;5;124malt.atheism\u001b[39m\u001b[38;5;124m\"\u001b[39m]\n\u001b[0;32m----> 2\u001b[0m x \u001b[38;5;241m=\u001b[39m df_between_sorted[\u001b[43mdf_between_sorted\u001b[49m\u001b[43m[\u001b[49m\u001b[38;5;124;43m\"\u001b[39;49m\u001b[38;5;124;43mGroup1\u001b[39;49m\u001b[38;5;124;43m\"\u001b[39;49m\u001b[43m]\u001b[49m\u001b[38;5;241m.\u001b[39misin(test)]\n\u001b[1;32m      3\u001b[0m x\n",
      "File \u001b[0;32m~/.local/lib/python3.8/site-packages/pandas/core/frame.py:3805\u001b[0m, in \u001b[0;36mDataFrame.__getitem__\u001b[0;34m(self, key)\u001b[0m\n\u001b[1;32m   3803\u001b[0m \u001b[38;5;28;01mif\u001b[39;00m \u001b[38;5;28mself\u001b[39m\u001b[38;5;241m.\u001b[39mcolumns\u001b[38;5;241m.\u001b[39mnlevels \u001b[38;5;241m>\u001b[39m \u001b[38;5;241m1\u001b[39m:\n\u001b[1;32m   3804\u001b[0m     \u001b[38;5;28;01mreturn\u001b[39;00m \u001b[38;5;28mself\u001b[39m\u001b[38;5;241m.\u001b[39m_getitem_multilevel(key)\n\u001b[0;32m-> 3805\u001b[0m indexer \u001b[38;5;241m=\u001b[39m \u001b[38;5;28;43mself\u001b[39;49m\u001b[38;5;241;43m.\u001b[39;49m\u001b[43mcolumns\u001b[49m\u001b[38;5;241;43m.\u001b[39;49m\u001b[43mget_loc\u001b[49m\u001b[43m(\u001b[49m\u001b[43mkey\u001b[49m\u001b[43m)\u001b[49m\n\u001b[1;32m   3806\u001b[0m \u001b[38;5;28;01mif\u001b[39;00m is_integer(indexer):\n\u001b[1;32m   3807\u001b[0m     indexer \u001b[38;5;241m=\u001b[39m [indexer]\n",
      "File \u001b[0;32m~/.local/lib/python3.8/site-packages/pandas/core/indexes/base.py:3802\u001b[0m, in \u001b[0;36mIndex.get_loc\u001b[0;34m(self, key, method, tolerance)\u001b[0m\n\u001b[1;32m   3800\u001b[0m     \u001b[38;5;28;01mreturn\u001b[39;00m \u001b[38;5;28mself\u001b[39m\u001b[38;5;241m.\u001b[39m_engine\u001b[38;5;241m.\u001b[39mget_loc(casted_key)\n\u001b[1;32m   3801\u001b[0m \u001b[38;5;28;01mexcept\u001b[39;00m \u001b[38;5;167;01mKeyError\u001b[39;00m \u001b[38;5;28;01mas\u001b[39;00m err:\n\u001b[0;32m-> 3802\u001b[0m     \u001b[38;5;28;01mraise\u001b[39;00m \u001b[38;5;167;01mKeyError\u001b[39;00m(key) \u001b[38;5;28;01mfrom\u001b[39;00m \u001b[38;5;21;01merr\u001b[39;00m\n\u001b[1;32m   3803\u001b[0m \u001b[38;5;28;01mexcept\u001b[39;00m \u001b[38;5;167;01mTypeError\u001b[39;00m:\n\u001b[1;32m   3804\u001b[0m     \u001b[38;5;66;03m# If we have a listlike key, _check_indexing_error will raise\u001b[39;00m\n\u001b[1;32m   3805\u001b[0m     \u001b[38;5;66;03m#  InvalidIndexError. Otherwise we fall through and re-raise\u001b[39;00m\n\u001b[1;32m   3806\u001b[0m     \u001b[38;5;66;03m#  the TypeError.\u001b[39;00m\n\u001b[1;32m   3807\u001b[0m     \u001b[38;5;28mself\u001b[39m\u001b[38;5;241m.\u001b[39m_check_indexing_error(key)\n",
      "\u001b[0;31mKeyError\u001b[0m: 'Group1'"
     ]
    }
   ],
   "source": [
    "test = [\"alt.atheism\"]\n",
    "x = df_between_sorted[df_between_sorted[\"Group1\"].isin(test)]\n",
    "x"
   ]
  },
  {
   "cell_type": "markdown",
   "id": "8fe73448",
   "metadata": {},
   "source": [
    "## Calculate cosine similarity within groups"
   ]
  },
  {
   "cell_type": "code",
   "execution_count": null,
   "id": "102aea14",
   "metadata": {},
   "outputs": [],
   "source": [
    "nw_similarity = []\n",
    "for ix, row in df_total_within.iterrows():\n",
    "    path1 = path_news + '/' + row.Group + '/' + row.Text1\n",
    "    path2 = path_news + '/' +row.Group + '/' + row.Text2\n",
    "    nw_similarity.append(calculate_cos_sim(client, index, path1, path2))\n",
    "\n",
    "within_groups_sim= df_total_within.copy()\n",
    "within_groups_sim['similarity'] = nw_similarity\n",
    "mean_within = within_groups_sim.groupby('Group')['similarity'].mean()\n",
    "print(mean_within)"
   ]
  },
  {
   "cell_type": "code",
   "execution_count": null,
   "id": "2b9caaa4",
   "metadata": {},
   "outputs": [],
   "source": [
    "df_within_sorted = pd.DataFrame(mean_within).sort_values('similarity', ascending=False)\n",
    "df_within_sorted"
   ]
  },
  {
   "cell_type": "markdown",
   "id": "3f3a845c",
   "metadata": {},
   "source": [
    "## Compare the result of within and between groups"
   ]
  },
  {
   "cell_type": "code",
   "execution_count": null,
   "id": "506ff6fa",
   "metadata": {},
   "outputs": [],
   "source": []
  }
 ],
 "metadata": {
  "kernelspec": {
   "display_name": "Python 3 (ipykernel)",
   "language": "python",
   "name": "python3"
  },
  "language_info": {
   "codemirror_mode": {
    "name": "ipython",
    "version": 3
   },
   "file_extension": ".py",
   "mimetype": "text/x-python",
   "name": "python",
   "nbconvert_exporter": "python",
   "pygments_lexer": "ipython3",
   "version": "3.8.10"
  }
 },
 "nbformat": 4,
 "nbformat_minor": 5
}
