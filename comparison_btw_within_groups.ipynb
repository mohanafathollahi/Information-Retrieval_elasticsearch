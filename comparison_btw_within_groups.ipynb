{
 "cells": [
  {
   "cell_type": "code",
   "execution_count": 1,
   "outputs": [],
   "source": [
    "from elasticsearch import Elasticsearch\n",
    "from itertools import combinations\n",
    "from os import listdir\n",
    "import numpy as np\n",
    "import pandas as pd\n",
    "import TFIDFViewer as tfidf\n",
    "from ssl import create_default_context\n",
    "# context = create_default_context(cafile=\"/home/mohana/http_ca.crt\")\n",
    "client = Elasticsearch(timeout=1000,\n",
    "                       # use_ssl=True,\n",
    "                       # ssl_context=context,\n",
    "                       # scheme = \"https\",\n",
    "                       # http_auth = (\"elastic\", \"h_9RfOqHmS-v5-ZV9Lk7\")\n",
    "                       )\n"
   ],
   "metadata": {
    "collapsed": false
   }
  },
  {
   "cell_type": "markdown",
   "source": [
    "# TF-IDF and cosine similarity"
   ],
   "metadata": {
    "collapsed": false
   }
  },
  {
   "cell_type": "code",
   "execution_count": 2,
   "outputs": [
    {
     "name": "stdout",
     "output_type": "stream",
     "text": [
      "Indexing 55760 files\n",
      "Reading files ...\n"
     ]
    },
    {
     "name": "stderr",
     "output_type": "stream",
     "text": [
      "/home/tanja/anaconda3/envs/irrs/lib/python3.10/site-packages/elasticsearch/connection/base.py:200: ElasticsearchWarning: the default value for the ?wait_for_active_shards parameter will change from '0' to 'index-setting' in version 8; specify '?wait_for_active_shards=index-setting' to adopt the future default behaviour, or '?wait_for_active_shards=0' to preserve today's behaviour\n",
      "  warnings.warn(message, category=ElasticsearchWarning)\n",
      "/home/tanja/anaconda3/envs/irrs/lib/python3.10/site-packages/elasticsearch/connection/base.py:200: ElasticsearchWarning: [types removal] Using include_type_name in put mapping requests is deprecated. The parameter will be removed in the next major version.\n",
      "  warnings.warn(message, category=ElasticsearchWarning)\n"
     ]
    },
    {
     "name": "stdout",
     "output_type": "stream",
     "text": [
      "Index settings= {'arxiv_letter_lowercase': {'settings': {'index': {'routing': {'allocation': {'include': {'_tier_preference': 'data_content'}}}, 'number_of_shards': '1', 'provided_name': 'arxiv_letter_lowercase', 'creation_date': '1665512278550', 'analysis': {'analyzer': {'default': {'filter': ['lowercase'], 'type': 'custom', 'tokenizer': 'letter'}}}, 'number_of_replicas': '1', 'uuid': 'XRspssThSvWNYGP9MAzjpQ', 'version': {'created': '7170699'}}}}}\n",
      "Indexing ...\n",
      "Indexing 20089 files\n",
      "Reading files ...\n",
      "Index settings= {'news_letter_lowercase': {'settings': {'index': {'routing': {'allocation': {'include': {'_tier_preference': 'data_content'}}}, 'number_of_shards': '1', 'provided_name': 'news_letter_lowercase', 'creation_date': '1665512322062', 'analysis': {'analyzer': {'default': {'filter': ['lowercase'], 'type': 'custom', 'tokenizer': 'letter'}}}, 'number_of_replicas': '1', 'uuid': '4zF-lsUURGCYvsSQoXbs1w', 'version': {'created': '7170699'}}}}}\n",
      "Indexing ...\n",
      "Indexing 33 files\n",
      "Reading files ...\n",
      "Index settings= {'novel_letter_lowercase': {'settings': {'index': {'routing': {'allocation': {'include': {'_tier_preference': 'data_content'}}}, 'number_of_shards': '1', 'provided_name': 'novel_letter_lowercase', 'creation_date': '1665512334835', 'analysis': {'analyzer': {'default': {'filter': ['lowercase'], 'type': 'custom', 'tokenizer': 'letter'}}}, 'number_of_replicas': '1', 'uuid': 'nwwCml_ETeKa6US5gn6x2w', 'version': {'created': '7170699'}}}}}\n",
      "Indexing ...\n",
      "Indexing 7 files\n",
      "Reading files ...\n",
      "Index settings= {'docs_letter_lowercase': {'settings': {'index': {'routing': {'allocation': {'include': {'_tier_preference': 'data_content'}}}, 'number_of_shards': '1', 'provided_name': 'docs_letter_lowercase', 'creation_date': '1665512338940', 'analysis': {'analyzer': {'default': {'filter': ['lowercase'], 'type': 'custom', 'tokenizer': 'letter'}}}, 'number_of_replicas': '1', 'uuid': '1ZPP7r9SSLiID5HaQMccwA', 'version': {'created': '7170699'}}}}}\n",
      "Indexing ...\n"
     ]
    }
   ],
   "source": [
    "# create indexes\n",
    "%run IndexFilesPreprocess.py --path ./arxiv_abs --index arxiv_letter_lowercase --token letter --filter lowercase\n",
    "%run IndexFilesPreprocess.py --path ./20_newsgroups --index news_letter_lowercase --token letter --filter lowercase\n",
    "%run IndexFilesPreprocess.py --path ./novels --index novel_letter_lowercase --token letter --filter lowercase\n",
    "%run IndexFilesPreprocess.py --path ./docs --index docs_letter_lowercase --token letter --filter lowercase"
   ],
   "metadata": {
    "collapsed": false
   }
  },
  {
   "cell_type": "markdown",
   "source": [
    "Compare similarity of a file with itself. Which is expected to be 1, because both files are literally equal."
   ],
   "metadata": {
    "collapsed": false
   }
  },
  {
   "cell_type": "code",
   "execution_count": 3,
   "outputs": [
    {
     "name": "stdout",
     "output_type": "stream",
     "text": [
      "Similarity = 1.00000\n"
     ]
    }
   ],
   "source": [
    "%run TFIDFViewer.py --index novel_letter_lowercase --files ./novels/DickensThePickwickPapers.txt  ./novels/DickensThePickwickPapers.txt"
   ],
   "metadata": {
    "collapsed": false
   }
  },
  {
   "cell_type": "markdown",
   "source": [
    "Use docs data set from lecture, to test implementation"
   ],
   "metadata": {
    "collapsed": false
   }
  },
  {
   "cell_type": "code",
   "execution_count": 4,
   "outputs": [
    {
     "name": "stdout",
     "output_type": "stream",
     "text": [
      "Similarity = 0.03505\n"
     ]
    }
   ],
   "source": [
    "%run TFIDFViewer.py --index docs_letter_lowercase --files ./docs/3 ./docs/4"
   ],
   "metadata": {
    "collapsed": false
   }
  },
  {
   "cell_type": "markdown",
   "source": [
    "### Experimenting"
   ],
   "metadata": {
    "collapsed": false
   }
  },
  {
   "cell_type": "markdown",
   "source": [
    "Compare similarity from similar domain (arxiv data set) vs. from different domains"
   ],
   "metadata": {
    "collapsed": false
   }
  },
  {
   "cell_type": "code",
   "execution_count": 5,
   "outputs": [
    {
     "name": "stdout",
     "output_type": "stream",
     "text": [
      "Similarity = 0.01441\n"
     ]
    }
   ],
   "source": [
    "%run TFIDFViewer.py --index arxiv_letter_lowercase --files ./arxiv_abs/math.updates.on.arXiv.org/000000 ./arxiv_abs/math.updates.on.arXiv.org/000001"
   ],
   "metadata": {
    "collapsed": false
   }
  },
  {
   "cell_type": "code",
   "execution_count": 6,
   "outputs": [
    {
     "name": "stdout",
     "output_type": "stream",
     "text": [
      "Similarity = 0.02587\n"
     ]
    }
   ],
   "source": [
    "%run TFIDFViewer.py --index arxiv_letter_lowercase --files ./arxiv_abs/cs.updates.on.arXiv.org/000000 ./arxiv_abs/cs.updates.on.arXiv.org/000001"
   ],
   "metadata": {
    "collapsed": false
   }
  },
  {
   "cell_type": "code",
   "execution_count": 7,
   "outputs": [
    {
     "name": "stdout",
     "output_type": "stream",
     "text": [
      "Similarity = 0.05931\n"
     ]
    }
   ],
   "source": [
    "%run TFIDFViewer.py --index arxiv_letter_lowercase --files ./arxiv_abs/physics.updates.on.arXiv.org/000000 ./arxiv_abs/physics.updates.on.arXiv.org/000001"
   ],
   "metadata": {
    "collapsed": false
   }
  },
  {
   "cell_type": "code",
   "execution_count": 8,
   "outputs": [
    {
     "name": "stdout",
     "output_type": "stream",
     "text": [
      "Similarity = 0.02292\n"
     ]
    }
   ],
   "source": [
    "# different domain\n",
    "%run TFIDFViewer.py --index arxiv_letter_lowercase --files ./arxiv_abs/physics.updates.on.arXiv.org/000000 ./arxiv_abs/cs.updates.on.arXiv.org/000001"
   ],
   "metadata": {
    "collapsed": false
   }
  },
  {
   "cell_type": "code",
   "execution_count": 9,
   "outputs": [
    {
     "name": "stdout",
     "output_type": "stream",
     "text": [
      "Similarity = 0.06139\n"
     ]
    }
   ],
   "source": [
    "# different domain\n",
    "%run TFIDFViewer.py --index arxiv_letter_lowercase --files ./arxiv_abs/math.updates.on.arXiv.org/000000 ./arxiv_abs/cs.updates.on.arXiv.org/000001"
   ],
   "metadata": {
    "collapsed": false
   }
  },
  {
   "cell_type": "markdown",
   "source": [
    "compare novels from same or different author"
   ],
   "metadata": {
    "collapsed": false
   }
  },
  {
   "cell_type": "code",
   "execution_count": 10,
   "outputs": [
    {
     "name": "stdout",
     "output_type": "stream",
     "text": [
      "Similarity = 0.01716\n"
     ]
    }
   ],
   "source": [
    "# same author\n",
    "%run TFIDFViewer.py --index novel_letter_lowercase --files ./novels/DickensAChristmasCarol.txt ./novels/DickensGreatExpectations.txt"
   ],
   "metadata": {
    "collapsed": false
   }
  },
  {
   "cell_type": "code",
   "execution_count": 11,
   "outputs": [
    {
     "name": "stdout",
     "output_type": "stream",
     "text": [
      "Similarity = 0.24176\n"
     ]
    }
   ],
   "source": [
    "# same author\n",
    "%run TFIDFViewer.py --index novel_letter_lowercase --files ./novels/PoeWorksVol1.txt ./novels/PoeWorksVol2.txt"
   ],
   "metadata": {
    "collapsed": false
   }
  },
  {
   "cell_type": "code",
   "execution_count": 12,
   "outputs": [
    {
     "name": "stdout",
     "output_type": "stream",
     "text": [
      "Similarity = 0.00456\n"
     ]
    }
   ],
   "source": [
    "# different author\n",
    "%run TFIDFViewer.py --index novel_letter_lowercase --files ./novels/DickensAChristmasCarol.txt ./novels/LondonCallofTheWild.txt"
   ],
   "metadata": {
    "collapsed": false
   }
  },
  {
   "cell_type": "code",
   "execution_count": 13,
   "outputs": [
    {
     "name": "stdout",
     "output_type": "stream",
     "text": [
      "Similarity = 0.00277\n"
     ]
    }
   ],
   "source": [
    "# different author\n",
    "%run TFIDFViewer.py --index novel_letter_lowercase --files ./novels/DickensAChristmasCarol.txt ./novels/DarwinOriginofSpecies.txt"
   ],
   "metadata": {
    "collapsed": false
   }
  },
  {
   "cell_type": "markdown",
   "source": [
    "newsgroup data set: compare subsets"
   ],
   "metadata": {
    "collapsed": false
   }
  },
  {
   "cell_type": "code",
   "execution_count": 14,
   "outputs": [
    {
     "name": "stdout",
     "output_type": "stream",
     "text": [
      "Similarity = 0.00676\n"
     ]
    }
   ],
   "source": [
    "# different subset\n",
    "%run TFIDFViewer.py --index news_letter_lowercase --files ./20_newsgroups/alt.atheism/0000000 ./20_newsgroups/comp.os.ms-windows.misc/0002000"
   ],
   "metadata": {
    "collapsed": false
   }
  },
  {
   "cell_type": "code",
   "execution_count": 15,
   "outputs": [
    {
     "name": "stdout",
     "output_type": "stream",
     "text": [
      "Similarity = 0.00152\n"
     ]
    }
   ],
   "source": [
    "# same subset\n",
    "%run TFIDFViewer.py --index news_letter_lowercase --files ./20_newsgroups/comp.os.ms-windows.misc/0002000 ./20_newsgroups/comp.os.ms-windows.misc/0002001"
   ],
   "metadata": {
    "collapsed": false
   }
  },
  {
   "cell_type": "code",
   "execution_count": 16,
   "outputs": [
    {
     "name": "stdout",
     "output_type": "stream",
     "text": [
      "Similarity = 0.00626\n"
     ]
    }
   ],
   "source": [
    "# same subset\n",
    "%run TFIDFViewer.py --index news_letter_lowercase --files ./20_newsgroups/comp.os.ms-windows.misc/0002000 ./20_newsgroups/comp.os.ms-windows.misc/0002010"
   ],
   "metadata": {
    "collapsed": false
   }
  },
  {
   "cell_type": "code",
   "execution_count": 17,
   "outputs": [
    {
     "name": "stdout",
     "output_type": "stream",
     "text": [
      "Similarity = 0.03807\n"
     ]
    }
   ],
   "source": [
    "# same subset\n",
    "%run TFIDFViewer.py --index news_letter_lowercase --files ./20_newsgroups/talk.politics.guns/0011926 ./20_newsgroups/talk.politics.guns/0011939"
   ],
   "metadata": {
    "collapsed": false
   }
  },
  {
   "cell_type": "code",
   "execution_count": 18,
   "outputs": [
    {
     "name": "stdout",
     "output_type": "stream",
     "text": [
      "Similarity = 0.02426\n"
     ]
    }
   ],
   "source": [
    "# similar subset: politics\n",
    "%run TFIDFViewer.py --index news_letter_lowercase --files ./20_newsgroups/talk.politics.guns/0011926 ./20_newsgroups/talk.politics.mideast/0016011"
   ],
   "metadata": {
    "collapsed": false
   }
  },
  {
   "cell_type": "code",
   "execution_count": 19,
   "outputs": [
    {
     "name": "stdout",
     "output_type": "stream",
     "text": [
      "Similarity = 0.00086\n"
     ]
    }
   ],
   "source": [
    "# similar subset: autos and motorcycles\n",
    "%run TFIDFViewer.py --index news_letter_lowercase --files ./20_newsgroups/rec.autos/0006050 ./20_newsgroups/rec.motorcycles/0008000"
   ],
   "metadata": {
    "collapsed": false
   }
  },
  {
   "cell_type": "markdown",
   "source": [
    "## Compare texts within groups"
   ],
   "metadata": {
    "collapsed": false
   }
  },
  {
   "cell_type": "markdown",
   "id": "020e4844",
   "metadata": {},
   "source": [
    "After experimenting with only single combination of files, we should use more files. We use the newsgroup data set for this analysis. In newspapers we have 20 groups:['alt.atheism', 'comp.graphics', 'comp.os.ms-windows.misc', 'comp.sys.ibm.pc.hardware', 'comp.sys.mac.hardware', 'comp.windows.x', 'misc.forsale', 'rec.autos', 'rec.motorcycles', 'rec.sport.baseball', 'rec.sport.hockey', 'sci.crypt', 'sci.electronics', 'sci.med', 'sci.space', 'soc.religion.christian', 'talk.politics.guns', 'talk.politics.mideast', 'talk.politics.misc', 'talk.religion.misc'] and in each of these groups we will select 5 random texts to compare comparision in each group. At the end we have 200 combination of texts in different news subjects."
   ]
  },
  {
   "cell_type": "code",
   "execution_count": 20,
   "id": "9aa3e074",
   "metadata": {},
   "outputs": [],
   "source": [
    "def within_groups_samples(path, n_sample):\n",
    "    groups = sorted(listdir(path))\n",
    "    group_text1_text2 = [[] for _ in range(3)]\n",
    "    for i in groups:\n",
    "        samples = np.random.choice(listdir(path +'/'+ i), size=n_sample, replace=False)\n",
    "        #consider all combination of texts, forexample([0085,0147],[0085, 0524])\n",
    "        for text1, text2 in combinations(samples, 2):\n",
    "            group_text1_text2[0].append(i)\n",
    "            group_text1_text2[1].append(text1)\n",
    "            group_text1_text2[2].append(text2)\n",
    "    df_within_groups = pd.DataFrame({'Group': group_text1_text2[0], 'Text1': group_text1_text2[1], 'Text2': group_text1_text2[2]})\n",
    "    return df_within_groups\n"
   ]
  },
  {
   "cell_type": "code",
   "execution_count": 21,
   "outputs": [
    {
     "name": "stdout",
     "output_type": "stream",
     "text": [
      "Indexing 20089 files\n",
      "Reading files ...\n",
      "Index settings= {'news': {'settings': {'index': {'routing': {'allocation': {'include': {'_tier_preference': 'data_content'}}}, 'number_of_shards': '1', 'provided_name': 'news', 'creation_date': '1665512357048', 'analysis': {'analyzer': {'default': {'filter': ['lowercase'], 'type': 'custom', 'tokenizer': 'letter'}}}, 'number_of_replicas': '1', 'uuid': 'eYk6IrkDQgm5QWXTtsxnHQ', 'version': {'created': '7170699'}}}}}\n",
      "Indexing ...\n"
     ]
    }
   ],
   "source": [
    "%run IndexFilesPreprocess.py --path ./20_newsgroups --index news --token letter --filter lowercase"
   ],
   "metadata": {
    "collapsed": false
   }
  },
  {
   "cell_type": "code",
   "execution_count": 22,
   "id": "b3dbeaa5",
   "metadata": {},
   "outputs": [
    {
     "data": {
      "text/plain": "                  Group    Text1    Text2\n0           alt.atheism  0000147  0000372\n1           alt.atheism  0000147  0000838\n2           alt.atheism  0000147  0000433\n3           alt.atheism  0000147  0000259\n4           alt.atheism  0000372  0000838\n..                  ...      ...      ...\n195  talk.religion.misc  0019810  0019194\n196  talk.religion.misc  0019810  0019167\n197  talk.religion.misc  0000659  0019194\n198  talk.religion.misc  0000659  0019167\n199  talk.religion.misc  0019194  0019167\n\n[200 rows x 3 columns]",
      "text/html": "<div>\n<style scoped>\n    .dataframe tbody tr th:only-of-type {\n        vertical-align: middle;\n    }\n\n    .dataframe tbody tr th {\n        vertical-align: top;\n    }\n\n    .dataframe thead th {\n        text-align: right;\n    }\n</style>\n<table border=\"1\" class=\"dataframe\">\n  <thead>\n    <tr style=\"text-align: right;\">\n      <th></th>\n      <th>Group</th>\n      <th>Text1</th>\n      <th>Text2</th>\n    </tr>\n  </thead>\n  <tbody>\n    <tr>\n      <th>0</th>\n      <td>alt.atheism</td>\n      <td>0000147</td>\n      <td>0000372</td>\n    </tr>\n    <tr>\n      <th>1</th>\n      <td>alt.atheism</td>\n      <td>0000147</td>\n      <td>0000838</td>\n    </tr>\n    <tr>\n      <th>2</th>\n      <td>alt.atheism</td>\n      <td>0000147</td>\n      <td>0000433</td>\n    </tr>\n    <tr>\n      <th>3</th>\n      <td>alt.atheism</td>\n      <td>0000147</td>\n      <td>0000259</td>\n    </tr>\n    <tr>\n      <th>4</th>\n      <td>alt.atheism</td>\n      <td>0000372</td>\n      <td>0000838</td>\n    </tr>\n    <tr>\n      <th>...</th>\n      <td>...</td>\n      <td>...</td>\n      <td>...</td>\n    </tr>\n    <tr>\n      <th>195</th>\n      <td>talk.religion.misc</td>\n      <td>0019810</td>\n      <td>0019194</td>\n    </tr>\n    <tr>\n      <th>196</th>\n      <td>talk.religion.misc</td>\n      <td>0019810</td>\n      <td>0019167</td>\n    </tr>\n    <tr>\n      <th>197</th>\n      <td>talk.religion.misc</td>\n      <td>0000659</td>\n      <td>0019194</td>\n    </tr>\n    <tr>\n      <th>198</th>\n      <td>talk.religion.misc</td>\n      <td>0000659</td>\n      <td>0019167</td>\n    </tr>\n    <tr>\n      <th>199</th>\n      <td>talk.religion.misc</td>\n      <td>0019194</td>\n      <td>0019167</td>\n    </tr>\n  </tbody>\n</table>\n<p>200 rows × 3 columns</p>\n</div>"
     },
     "execution_count": 22,
     "metadata": {},
     "output_type": "execute_result"
    }
   ],
   "source": [
    "path_news = '20_newsgroups'\n",
    "n_sample = 5\n",
    "df_total_within = within_groups_samples(path_news, n_sample)\n",
    "df_total_within"
   ]
  },
  {
   "cell_type": "markdown",
   "id": "6850258e",
   "metadata": {},
   "source": [
    "## Compare texts between groups"
   ]
  },
  {
   "cell_type": "markdown",
   "id": "52c242a3",
   "metadata": {},
   "source": [
    "To compare different groups, we will consider all comination of groups and for each group, we will select 10 random texts for each of them. To not have repetitive samples in our comparison we considered different random.seed for each iteration of combinations.At the end we have 950 combinations. "
   ]
  },
  {
   "cell_type": "code",
   "execution_count": 23,
   "id": "527a9e08",
   "metadata": {},
   "outputs": [],
   "source": [
    "def between_groups_samples(path, n_sample):\n",
    "    groups = sorted(listdir(path))\n",
    "    group1_text1_group2_text2 = [[] for _ in range(4)]\n",
    "    counter = 0\n",
    "    #All combinations of groups\n",
    "    for group1, group2 in combinations(groups, 2):\n",
    "        np.random.seed(1 + counter)\n",
    "        sample_group1 = np.random.choice(listdir(path +'/' + group1), size=n_sample, replace=False)\n",
    "        sample_group2 = np.random.choice(listdir(path +'/' + group2), size=n_sample, replace=False)\n",
    "        for i in range(n_sample):\n",
    "            group1_text1_group2_text2[0].append(group1)\n",
    "            group1_text1_group2_text2[1].append(sample_group1[i])\n",
    "            group1_text1_group2_text2[2].append(group2)\n",
    "            group1_text1_group2_text2[3].append(sample_group2[i])\n",
    "        counter += 1\n",
    "\n",
    "    df_between_groups = pd.DataFrame({'Group1': group1_text1_group2_text2[0], 'Text1': group1_text1_group2_text2[1], \n",
    "                                      'Group2': group1_text1_group2_text2[2], 'Text2': group1_text1_group2_text2[3]})\n",
    "    return df_between_groups"
   ]
  },
  {
   "cell_type": "code",
   "execution_count": 24,
   "id": "3a8157b3",
   "metadata": {},
   "outputs": [
    {
     "name": "stdout",
     "output_type": "stream",
     "text": [
      "                 Group1    Text1              Group2    Text2\n",
      "0           alt.atheism  0000432       comp.graphics  0001512\n",
      "1           alt.atheism  0000821       comp.graphics  0001148\n",
      "2           alt.atheism  0000911       comp.graphics  0001414\n",
      "3           alt.atheism  0000664       comp.graphics  0001710\n",
      "4           alt.atheism  0000240       comp.graphics  0001653\n",
      "..                  ...      ...                 ...      ...\n",
      "945  talk.politics.misc  0018105  talk.religion.misc  0019277\n",
      "946  talk.politics.misc  0018096  talk.religion.misc  0019476\n",
      "947  talk.politics.misc  0018897  talk.religion.misc  0019226\n",
      "948  talk.politics.misc  0018785  talk.religion.misc  0019418\n",
      "949  talk.politics.misc  0018179  talk.religion.misc  0000573\n",
      "\n",
      "[950 rows x 4 columns]\n"
     ]
    }
   ],
   "source": [
    "df_total_btw = between_groups_samples(path_news, n_sample)\n",
    "print(df_total_btw)\n",
    "#to check different combinations in group alt.atheism\n",
    "#df_total_btw.loc[df_total_btw['Group1']==\"alt.atheism\"]"
   ]
  },
  {
   "cell_type": "markdown",
   "id": "739086f1",
   "metadata": {},
   "source": [
    "## Calculate cosine similarity between groups"
   ]
  },
  {
   "cell_type": "markdown",
   "id": "2efd25cf",
   "metadata": {},
   "source": [
    "Based on functions that defined in TFIDFViewer, first we should find the id of a document in the index and then calculate cosine similarity."
   ]
  },
  {
   "cell_type": "code",
   "execution_count": 25,
   "id": "8a9e6891",
   "metadata": {},
   "outputs": [],
   "source": [
    "def calculate_cos_sim(client_, index_, path1_, path2_):\n",
    "    file_group1_id = tfidf.search_file_by_path(client_, index_, path1_)\n",
    "    file_group2_id = tfidf.search_file_by_path(client_, index_, path2_)\n",
    "\n",
    "    file1_tw = tfidf.toTFIDF(client_, index_, file_group1_id)\n",
    "    file2_tw = tfidf.toTFIDF(client_, index_, file_group2_id )\n",
    "\n",
    "    return tfidf.cosine_similarity(file1_tw, file2_tw)"
   ]
  },
  {
   "cell_type": "markdown",
   "id": "2fbae832",
   "metadata": {},
   "source": [
    "We condider index news that considered token =letter and filter= lowercase"
   ]
  },
  {
   "cell_type": "code",
   "execution_count": 26,
   "id": "85522e4e",
   "metadata": {},
   "outputs": [],
   "source": [
    "index = 'news'"
   ]
  },
  {
   "cell_type": "markdown",
   "id": "b264fef1",
   "metadata": {},
   "source": [
    "For different combination of groups we will calculate mean of similarity, so we will have 190 rows at the end, because we consider mean of each group and our first table that has 950 rows."
   ]
  },
  {
   "cell_type": "code",
   "execution_count": 27,
   "id": "2e8da76b",
   "metadata": {},
   "outputs": [],
   "source": [
    "%%capture\n",
    "total_similarity = []\n",
    "for ix, row in df_total_btw.iterrows():\n",
    "    path1 = './' + path_news + '/' + row.Group1 + '/' + row.Text1\n",
    "    path2 = './' + path_news + '/' + row.Group2 + '/' + row.Text2\n",
    "    total_similarity.append(calculate_cos_sim(client, index, path1, path2))\n",
    "\n",
    "between_groups_sim = df_total_btw.copy()\n",
    "between_groups_sim['similarity'] = total_similarity\n",
    "between_groups_sim = between_groups_sim.groupby(['Group1', 'Group2'])['similarity'].mean()"
   ]
  },
  {
   "cell_type": "markdown",
   "id": "a6d4f1c7",
   "metadata": {},
   "source": [
    "Based on our result, highest similarity exist between \"talk.politics.guns\" & \"talk.politics.misc\" and lowest similairty exist between \"comp.windows.x\" & \"rec.autos\"."
   ]
  },
  {
   "cell_type": "code",
   "execution_count": 28,
   "id": "7e182516",
   "metadata": {},
   "outputs": [
    {
     "data": {
      "text/plain": "                                                 similarity\nGroup1                   Group2                            \ncomp.sys.ibm.pc.hardware sci.space                 0.038606\n                         comp.sys.mac.hardware     0.038266\nalt.atheism              talk.politics.misc        0.033682\nsci.med                  soc.religion.christian    0.030710\nsoc.religion.christian   talk.politics.misc        0.028846\n...                                                     ...\ncomp.sys.ibm.pc.hardware rec.autos                 0.004211\ncomp.graphics            talk.politics.mideast     0.004154\nmisc.forsale             talk.religion.misc        0.003392\n                         soc.religion.christian    0.003003\n                         rec.sport.baseball        0.002536\n\n[190 rows x 1 columns]",
      "text/html": "<div>\n<style scoped>\n    .dataframe tbody tr th:only-of-type {\n        vertical-align: middle;\n    }\n\n    .dataframe tbody tr th {\n        vertical-align: top;\n    }\n\n    .dataframe thead th {\n        text-align: right;\n    }\n</style>\n<table border=\"1\" class=\"dataframe\">\n  <thead>\n    <tr style=\"text-align: right;\">\n      <th></th>\n      <th></th>\n      <th>similarity</th>\n    </tr>\n    <tr>\n      <th>Group1</th>\n      <th>Group2</th>\n      <th></th>\n    </tr>\n  </thead>\n  <tbody>\n    <tr>\n      <th rowspan=\"2\" valign=\"top\">comp.sys.ibm.pc.hardware</th>\n      <th>sci.space</th>\n      <td>0.038606</td>\n    </tr>\n    <tr>\n      <th>comp.sys.mac.hardware</th>\n      <td>0.038266</td>\n    </tr>\n    <tr>\n      <th>alt.atheism</th>\n      <th>talk.politics.misc</th>\n      <td>0.033682</td>\n    </tr>\n    <tr>\n      <th>sci.med</th>\n      <th>soc.religion.christian</th>\n      <td>0.030710</td>\n    </tr>\n    <tr>\n      <th>soc.religion.christian</th>\n      <th>talk.politics.misc</th>\n      <td>0.028846</td>\n    </tr>\n    <tr>\n      <th>...</th>\n      <th>...</th>\n      <td>...</td>\n    </tr>\n    <tr>\n      <th>comp.sys.ibm.pc.hardware</th>\n      <th>rec.autos</th>\n      <td>0.004211</td>\n    </tr>\n    <tr>\n      <th>comp.graphics</th>\n      <th>talk.politics.mideast</th>\n      <td>0.004154</td>\n    </tr>\n    <tr>\n      <th rowspan=\"3\" valign=\"top\">misc.forsale</th>\n      <th>talk.religion.misc</th>\n      <td>0.003392</td>\n    </tr>\n    <tr>\n      <th>soc.religion.christian</th>\n      <td>0.003003</td>\n    </tr>\n    <tr>\n      <th>rec.sport.baseball</th>\n      <td>0.002536</td>\n    </tr>\n  </tbody>\n</table>\n<p>190 rows × 1 columns</p>\n</div>"
     },
     "execution_count": 28,
     "metadata": {},
     "output_type": "execute_result"
    }
   ],
   "source": [
    "df_between_sorted=pd.DataFrame(between_groups_sim).sort_values('similarity', ascending=False)\n",
    "df_between_sorted"
   ]
  },
  {
   "cell_type": "markdown",
   "id": "8fe73448",
   "metadata": {},
   "source": [
    "## Calculate cosine similarity within groups"
   ]
  },
  {
   "cell_type": "code",
   "execution_count": 29,
   "id": "102aea14",
   "metadata": {},
   "outputs": [],
   "source": [
    "%%capture\n",
    "nw_similarity = []\n",
    "for ix, row in df_total_within.iterrows():\n",
    "    path1 = './' + path_news + '/' + row.Group + '/' + row.Text1\n",
    "    path2 = './' + path_news + '/' +row.Group + '/' + row.Text2\n",
    "    nw_similarity.append(calculate_cos_sim(client, index, path1, path2))\n",
    "\n",
    "within_groups_sim= df_total_within.copy()\n",
    "within_groups_sim['similarity'] = nw_similarity\n",
    "mean_within = within_groups_sim.groupby('Group')['similarity'].mean()\n",
    "print(mean_within)"
   ]
  },
  {
   "cell_type": "code",
   "execution_count": 30,
   "id": "2b9caaa4",
   "metadata": {},
   "outputs": [
    {
     "data": {
      "text/plain": "                          similarity\nGroup                               \ntalk.politics.mideast       0.092695\nrec.autos                   0.051515\ntalk.politics.guns          0.045533\nsoc.religion.christian      0.044261\nrec.motorcycles             0.041701\ntalk.religion.misc          0.039863\nrec.sport.hockey            0.032200\nalt.atheism                 0.031186\ncomp.windows.x              0.030744\ntalk.politics.misc          0.022265\ncomp.graphics               0.019812\nmisc.forsale                0.019311\nsci.crypt                   0.018235\nsci.space                   0.017713\ncomp.sys.mac.hardware       0.015426\ncomp.os.ms-windows.misc     0.014883\nsci.med                     0.011633\nrec.sport.baseball          0.011331\ncomp.sys.ibm.pc.hardware    0.010528\nsci.electronics             0.009958",
      "text/html": "<div>\n<style scoped>\n    .dataframe tbody tr th:only-of-type {\n        vertical-align: middle;\n    }\n\n    .dataframe tbody tr th {\n        vertical-align: top;\n    }\n\n    .dataframe thead th {\n        text-align: right;\n    }\n</style>\n<table border=\"1\" class=\"dataframe\">\n  <thead>\n    <tr style=\"text-align: right;\">\n      <th></th>\n      <th>similarity</th>\n    </tr>\n    <tr>\n      <th>Group</th>\n      <th></th>\n    </tr>\n  </thead>\n  <tbody>\n    <tr>\n      <th>talk.politics.mideast</th>\n      <td>0.092695</td>\n    </tr>\n    <tr>\n      <th>rec.autos</th>\n      <td>0.051515</td>\n    </tr>\n    <tr>\n      <th>talk.politics.guns</th>\n      <td>0.045533</td>\n    </tr>\n    <tr>\n      <th>soc.religion.christian</th>\n      <td>0.044261</td>\n    </tr>\n    <tr>\n      <th>rec.motorcycles</th>\n      <td>0.041701</td>\n    </tr>\n    <tr>\n      <th>talk.religion.misc</th>\n      <td>0.039863</td>\n    </tr>\n    <tr>\n      <th>rec.sport.hockey</th>\n      <td>0.032200</td>\n    </tr>\n    <tr>\n      <th>alt.atheism</th>\n      <td>0.031186</td>\n    </tr>\n    <tr>\n      <th>comp.windows.x</th>\n      <td>0.030744</td>\n    </tr>\n    <tr>\n      <th>talk.politics.misc</th>\n      <td>0.022265</td>\n    </tr>\n    <tr>\n      <th>comp.graphics</th>\n      <td>0.019812</td>\n    </tr>\n    <tr>\n      <th>misc.forsale</th>\n      <td>0.019311</td>\n    </tr>\n    <tr>\n      <th>sci.crypt</th>\n      <td>0.018235</td>\n    </tr>\n    <tr>\n      <th>sci.space</th>\n      <td>0.017713</td>\n    </tr>\n    <tr>\n      <th>comp.sys.mac.hardware</th>\n      <td>0.015426</td>\n    </tr>\n    <tr>\n      <th>comp.os.ms-windows.misc</th>\n      <td>0.014883</td>\n    </tr>\n    <tr>\n      <th>sci.med</th>\n      <td>0.011633</td>\n    </tr>\n    <tr>\n      <th>rec.sport.baseball</th>\n      <td>0.011331</td>\n    </tr>\n    <tr>\n      <th>comp.sys.ibm.pc.hardware</th>\n      <td>0.010528</td>\n    </tr>\n    <tr>\n      <th>sci.electronics</th>\n      <td>0.009958</td>\n    </tr>\n  </tbody>\n</table>\n</div>"
     },
     "execution_count": 30,
     "metadata": {},
     "output_type": "execute_result"
    }
   ],
   "source": [
    "df_within_sorted = pd.DataFrame(mean_within).sort_values('similarity', ascending=False)\n",
    "df_within_sorted"
   ]
  }
 ],
 "metadata": {
  "kernelspec": {
   "display_name": "Python 3 (ipykernel)",
   "language": "python",
   "name": "python3"
  },
  "language_info": {
   "codemirror_mode": {
    "name": "ipython",
    "version": 3
   },
   "file_extension": ".py",
   "mimetype": "text/x-python",
   "name": "python",
   "nbconvert_exporter": "python",
   "pygments_lexer": "ipython3",
   "version": "3.8.10"
  }
 },
 "nbformat": 4,
 "nbformat_minor": 5
}
